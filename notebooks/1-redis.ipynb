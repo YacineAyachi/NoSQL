{
 "cells": [
  {
   "cell_type": "markdown",
   "metadata": {},
   "source": [
    "# Redis tutorial"
   ]
  },
  {
   "cell_type": "markdown",
   "metadata": {},
   "source": [
    "## Prerequisites"
   ]
  },
  {
   "cell_type": "markdown",
   "metadata": {},
   "source": [
    "### Documentation\n",
    "\n",
    "You will find all documentation for :\n",
    "* [Redis commands](https://redis.io/commands)\n",
    "* [Redis python client](https://redis-py.readthedocs.io/en/latest/)\n",
    "\n",
    "Though the tutorial asks you to use Redis commands, they all have an equivalent in the Python client library."
   ]
  },
  {
   "cell_type": "markdown",
   "metadata": {},
   "source": [
    "### Import libraries"
   ]
  },
  {
   "cell_type": "code",
   "execution_count": 1,
   "metadata": {},
   "outputs": [],
   "source": [
    "import redis"
   ]
  },
  {
   "cell_type": "code",
   "execution_count": 2,
   "metadata": {},
   "outputs": [],
   "source": [
    "r = redis.Redis(host='localhost', port=6379)"
   ]
  },
  {
   "cell_type": "code",
   "execution_count": 3,
   "metadata": {},
   "outputs": [
    {
     "name": "stdout",
     "output_type": "stream",
     "text": [
      "b'bar'\n"
     ]
    }
   ],
   "source": [
    "r.set('foo', 'bar')\n",
    "value = r.get('foo')\n",
    "print(value)"
   ]
  },
  {
   "cell_type": "markdown",
   "metadata": {},
   "source": [
    "You can launch a terminal aside, connect to your server with a Redis client and check that the value is still present :\n",
    "\n",
    "```bash\n",
    "vagrant@nosql:~$ redis-cli\n",
    "127.0.0.1:6379> get foo\n",
    "\"bar\"\n",
    "```"
   ]
  },
  {
   "cell_type": "markdown",
   "metadata": {},
   "source": [
    "## I. Quick start"
   ]
  },
  {
   "cell_type": "markdown",
   "metadata": {},
   "source": [
    "### Strings and numbers"
   ]
  },
  {
   "cell_type": "markdown",
   "metadata": {},
   "source": [
    "**Q** : Store the string `hello world` in key `greetings` with a `SET` command. Then use a `GET` command to retrieve it."
   ]
  },
  {
   "cell_type": "code",
   "execution_count": 4,
   "metadata": {},
   "outputs": [
    {
     "name": "stdout",
     "output_type": "stream",
     "text": [
      "b'hello world'\n"
     ]
    }
   ],
   "source": [
    "# Stocker la chaîne \"hello world\" dans la clé \"greetings\"\n",
    "r.set('greetings', 'hello world')\n",
    "# Récupérer la valeur de la clé \"greetings\"\n",
    "value = r.get('greetings')\n",
    "print(value)"
   ]
  },
  {
   "cell_type": "markdown",
   "metadata": {},
   "source": [
    "**Q** : Create a `connections` key with value 0. Find the `INCR` command to increment its value, then display it. \n",
    "\n",
    "Try to increment the value for `greetings`."
   ]
  },
  {
   "cell_type": "code",
   "execution_count": 5,
   "metadata": {},
   "outputs": [
    {
     "name": "stdout",
     "output_type": "stream",
     "text": [
      "b'0'\n",
      "b'1'\n"
     ]
    }
   ],
   "source": [
    "# Étape 1 : Créer une clé \"connections\" avec la valeur 0\n",
    "r.set('connections', 0)\n",
    "print(r.get('connections'))\n",
    "\n",
    "# Étape 2 : Incrémenter la valeur de \"connections\"\n",
    "r.incr('connections')\n",
    "print(r.get('connections'))\n"
   ]
  },
  {
   "cell_type": "markdown",
   "metadata": {},
   "source": [
    "### Lists"
   ]
  },
  {
   "cell_type": "markdown",
   "metadata": {},
   "source": [
    "**Q** : Create a `colors` list with strings `red`, `black` and `blue`, using the `RPUSH` command."
   ]
  },
  {
   "cell_type": "code",
   "execution_count": 6,
   "metadata": {},
   "outputs": [
    {
     "data": {
      "text/plain": [
       "3"
      ]
     },
     "execution_count": 6,
     "metadata": {},
     "output_type": "execute_result"
    }
   ],
   "source": [
    "# Créer une liste \"colors\" et ajouter des éléments avec RPUSH\n",
    "r.rpush('colors', 'red', 'black', 'blue')"
   ]
  },
  {
   "cell_type": "markdown",
   "metadata": {},
   "source": [
    "**Q** : Display the second element of the list with `LINDEX`"
   ]
  },
  {
   "cell_type": "code",
   "execution_count": 7,
   "metadata": {},
   "outputs": [
    {
     "name": "stdout",
     "output_type": "stream",
     "text": [
      "b'black'\n"
     ]
    }
   ],
   "source": [
    "print(r.lindex('colors', 1))"
   ]
  },
  {
   "cell_type": "markdown",
   "metadata": {},
   "source": [
    "**Q** : Display the full list with `LRANGE`"
   ]
  },
  {
   "cell_type": "code",
   "execution_count": 8,
   "metadata": {},
   "outputs": [
    {
     "name": "stdout",
     "output_type": "stream",
     "text": [
      "[b'red', b'black', b'blue']\n"
     ]
    }
   ],
   "source": [
    "print(r.lrange('colors', 0, -1))"
   ]
  },
  {
   "cell_type": "markdown",
   "metadata": {},
   "source": [
    "### Using sets"
   ]
  },
  {
   "cell_type": "markdown",
   "metadata": {},
   "source": [
    "**Q** : Create a `nosql` set containing values `redis`, `mongodb` and `orientdb`, using the `SADD` command."
   ]
  },
  {
   "cell_type": "code",
   "execution_count": 9,
   "metadata": {},
   "outputs": [
    {
     "data": {
      "text/plain": [
       "3"
      ]
     },
     "execution_count": 9,
     "metadata": {},
     "output_type": "execute_result"
    }
   ],
   "source": [
    "r.sadd('nosql', \"redis\", 'mongodb', 'orientdb')"
   ]
  },
  {
   "cell_type": "markdown",
   "metadata": {},
   "source": [
    "**Q** : Test if `mysql` is inside the set, using `SISMEMBER`"
   ]
  },
  {
   "cell_type": "code",
   "execution_count": 10,
   "metadata": {},
   "outputs": [
    {
     "data": {
      "text/plain": [
       "1"
      ]
     },
     "execution_count": 10,
     "metadata": {},
     "output_type": "execute_result"
    }
   ],
   "source": [
    "r.sismember('nosql', 'redis')"
   ]
  },
  {
   "cell_type": "markdown",
   "metadata": {},
   "source": [
    "**Q** : Add `hbase` to the set with `SADD`, then display all elements of the set with `SMEMBERS`. Try to add `redis` again and see what happens."
   ]
  },
  {
   "cell_type": "code",
   "execution_count": 11,
   "metadata": {},
   "outputs": [
    {
     "name": "stdout",
     "output_type": "stream",
     "text": [
      "1\n"
     ]
    }
   ],
   "source": [
    "# Add 'hbase' to the 'nosql' set\n",
    "r.sadd('nosql', 'redis')\n",
    "print(r.sismember('nosql', 'redis'))"
   ]
  },
  {
   "cell_type": "code",
   "execution_count": 12,
   "metadata": {},
   "outputs": [
    {
     "name": "stdout",
     "output_type": "stream",
     "text": [
      "[b'foo', b'greetings', b'nosql', b'colors', b'connections']\n",
      "b'bar'\n"
     ]
    }
   ],
   "source": [
    "# Retrieve all the keys in the database\n",
    "all_keys = r.keys('*')\n",
    "print(all_keys)\n",
    "print(r.get(all_keys[0]))"
   ]
  },
  {
   "cell_type": "markdown",
   "metadata": {},
   "source": [
    "### Using sorted sets\n",
    "\n",
    "Sorted Sets are similar to Redis Sets with the unique feature of values stored in a set. The difference is, every member of a Sorted Set is associated with a score, that is used in order to take the sorted set ordered, from the smallest to the greatest score."
   ]
  },
  {
   "cell_type": "markdown",
   "metadata": {},
   "source": [
    "**Q** : Using `ZADD`, create a sorted set `top14` with the following entries :\n",
    "\n",
    "```\n",
    "score city\n",
    "10 Agen \n",
    "33 Bordeaux \n",
    "32 Brive \n",
    "29 Castres \n",
    "38 Clermont \n",
    "24 Grenoble \n",
    "26 La Rochelle \n",
    "32 Montpellier \n",
    "14 Oyonnax \n",
    "20 Pau \n",
    "40 Racing \n",
    "22 Stade Français \n",
    "36 Toulon \n",
    "36 Toulouse\n",
    "```"
   ]
  },
  {
   "cell_type": "code",
   "execution_count": 13,
   "metadata": {},
   "outputs": [
    {
     "name": "stdout",
     "output_type": "stream",
     "text": [
      "[(b'Agen', 10.0), (b'Oyonnax', 14.0), (b'Pau', 20.0), (b'Stade Fran\\xc3\\xa7ais', 22.0), (b'Grenoble', 24.0), (b'La Rochelle', 26.0), (b'Castres', 29.0), (b'Brive', 32.0), (b'Montpellier', 32.0), (b'Bordeaux', 33.0), (b'Toulon', 36.0), (b'Toulouse', 36.0), (b'Clermont', 38.0), (b'Racing', 40.0)]\n"
     ]
    }
   ],
   "source": [
    "# Create a sorted set 'top14' with the provided scores and cities\n",
    "r.zadd('top14', {\n",
    "    'Agen': 10,\n",
    "    'Bordeaux': 33,\n",
    "    'Brive': 32,\n",
    "    'Castres': 29,\n",
    "    'Clermont': 38,\n",
    "    'Grenoble': 24,\n",
    "    'La Rochelle': 26,\n",
    "    'Montpellier': 32,\n",
    "    'Oyonnax': 14,\n",
    "    'Pau': 20,\n",
    "    'Racing': 40,\n",
    "    'Stade Français': 22,\n",
    "    'Toulon': 36,\n",
    "    'Toulouse': 36\n",
    "})\n",
    "sorted_cities = r.zrange('top14', 0, -1, withscores=True)\n",
    "print(sorted_cities)\n"
   ]
  },
  {
   "cell_type": "markdown",
   "metadata": {},
   "source": [
    "**Q** : Fetch the score for `Toulon` with `ZSCORE`, and its ranking with `ZRANK`."
   ]
  },
  {
   "cell_type": "code",
   "execution_count": 14,
   "metadata": {},
   "outputs": [
    {
     "name": "stdout",
     "output_type": "stream",
     "text": [
      "Score for Toulon: 36.0\n",
      "Ranking for Toulon: 10\n"
     ]
    }
   ],
   "source": [
    "# Fetch the score for 'Toulon'\n",
    "toulon_score = r.zscore('top14', 'Toulon')\n",
    "print(f\"Score for Toulon: {toulon_score}\")\n",
    "\n",
    "# Fetch the ranking for 'Toulon' (0 is the highest rank)\n",
    "toulon_ranking = r.zrank('top14', 'Toulon')\n",
    "print(f\"Ranking for Toulon: {toulon_ranking}\")\n"
   ]
  },
  {
   "cell_type": "markdown",
   "metadata": {},
   "source": [
    "**Q** : `ZRANK` starts at 0 and scores are sorted from lowest to highest, so we should use the `ZREVRANK` for a true ranking of our cities."
   ]
  },
  {
   "cell_type": "code",
   "execution_count": 15,
   "metadata": {},
   "outputs": [
    {
     "name": "stdout",
     "output_type": "stream",
     "text": [
      "Score for Toulon: 36.0\n",
      "True Ranking for Toulon: 3\n"
     ]
    }
   ],
   "source": [
    "# Fetch the score for 'Toulon'\n",
    "toulon_score = r.zscore('top14', 'Toulon')\n",
    "print(f\"Score for Toulon: {toulon_score}\")\n",
    "\n",
    "# Fetch the true ranking for 'Toulon' (0 is the highest rank)\n",
    "toulon_true_ranking = r.zrevrank('top14', 'Toulon')\n",
    "print(f\"True Ranking for Toulon: {toulon_true_ranking}\")\n"
   ]
  },
  {
   "cell_type": "markdown",
   "metadata": {},
   "source": [
    "**Q** : Find the commands to display :\n",
    "* the 3 best teams\n",
    "* teams with more than 35 points"
   ]
  },
  {
   "cell_type": "code",
   "execution_count": 16,
   "metadata": {},
   "outputs": [
    {
     "name": "stdout",
     "output_type": "stream",
     "text": [
      "Top 3 teams: [(b'Racing', 40.0), (b'Clermont', 38.0), (b'Toulouse', 36.0)]\n",
      "Teams with more than 35 points: [(b'Toulon', 36.0), (b'Toulouse', 36.0), (b'Clermont', 38.0), (b'Racing', 40.0)]\n"
     ]
    }
   ],
   "source": [
    "# Retrieve the top 3 teams with the highest scores\n",
    "top_3_teams = r.zrevrange('top14', 0, 2, withscores=True)\n",
    "print(\"Top 3 teams:\", top_3_teams)\n",
    "# Retrieve teams with scores greater than 35\n",
    "teams_above_35 = r.zrangebyscore('top14', 35, '+inf', withscores=True)\n",
    "print(\"Teams with more than 35 points:\", teams_above_35)"
   ]
  },
  {
   "cell_type": "markdown",
   "metadata": {},
   "source": [
    "### Using dictionaries"
   ]
  },
  {
   "cell_type": "markdown",
   "metadata": {},
   "source": [
    "**Q** : Create a dictionary `user:1` with `HMSET` with properties `id (1), name (Jean), age (22)`. Display it with `HGETALL`"
   ]
  },
  {
   "cell_type": "code",
   "execution_count": 17,
   "metadata": {},
   "outputs": [
    {
     "name": "stdout",
     "output_type": "stream",
     "text": [
      "{b'id': b'1', b'name': b'Jean', b'age': b'22'}\n"
     ]
    }
   ],
   "source": [
    "# Create a dictionary 'user:1' with the properties using HSET\n",
    "r.hset('user:1', mapping={\n",
    "    'id': 1,\n",
    "    'name': 'Jean',\n",
    "    'age': 22\n",
    "})\n",
    "\n",
    "# Display the dictionary with HGETALL\n",
    "user_info = r.hgetall('user:1')\n",
    "print(user_info)\n"
   ]
  },
  {
   "cell_type": "markdown",
   "metadata": {},
   "source": [
    "**Q** : Add a `city (Lyon)` property and rename the user from `Jean` to `Paul`."
   ]
  },
  {
   "cell_type": "code",
   "execution_count": 18,
   "metadata": {},
   "outputs": [
    {
     "name": "stdout",
     "output_type": "stream",
     "text": [
      "{b'id': b'1', b'name': b'Paul', b'age': b'22', b'city': b'Lyon'}\n"
     ]
    }
   ],
   "source": [
    "# Add a 'city' property to the 'user:1' hash\n",
    "r.hset('user:1', 'city', 'Lyon')\n",
    "# Rename the user from 'Jean' to 'Paul' by updating the 'name' field\n",
    "r.hset('user:1', 'name', 'Paul')\n",
    "# Display the updated 'user:1' dictionary\n",
    "user_info = r.hgetall('user:1')\n",
    "print(user_info)"
   ]
  },
  {
   "cell_type": "markdown",
   "metadata": {},
   "source": [
    "## Modelling a query cache with Redis\n",
    "\n",
    "You are modeling data from a REST query cache system with Redis.\n",
    "A request is identified by the http method and its url (without the protocol).\n",
    "The content of the request is stored as it is to be returned on demand."
   ]
  },
  {
   "cell_type": "markdown",
   "metadata": {},
   "source": [
    "**Q** : Insert a PUT request in the cache on http://my-api.fr/user/10 whose answer is {\"id\": 10, \"name\": \"jean\"}"
   ]
  },
  {
   "cell_type": "code",
   "execution_count": 19,
   "metadata": {},
   "outputs": [
    {
     "name": "stdout",
     "output_type": "stream",
     "text": [
      "{\"id\": 10, \"name\": \"jean\"}\n"
     ]
    }
   ],
   "source": [
    "# Define the key using HTTP method and URL (without protocol)\n",
    "request_key = \"PUT:/user/10\"\n",
    "\n",
    "# Define the response content (JSON response as a string)\n",
    "response_content = '{\"id\": 10, \"name\": \"jean\"}'\n",
    "\n",
    "# Store the request and response content in Redis\n",
    "r.set(request_key, response_content)\n",
    "\n",
    "# Optionally, retrieve the cached response to verify\n",
    "cached_response = r.get(request_key)\n",
    "print(cached_response.decode('utf-8'))  # Decode bytes to string for printing\n"
   ]
  },
  {
   "cell_type": "markdown",
   "metadata": {},
   "source": [
    "**Q** : Insert a GET request in the cache on http://my-api.fr/user?size=2 whose answer is[{\"id\": 10, \"name\": jean}, {\"id\": 11, \"name\": \"Claire\"}]"
   ]
  },
  {
   "cell_type": "code",
   "execution_count": 20,
   "metadata": {},
   "outputs": [
    {
     "name": "stdout",
     "output_type": "stream",
     "text": [
      "[{\"id\": 10, \"name\": \"jean\"}, {\"id\": 11, \"name\": \"Claire\"}]\n"
     ]
    }
   ],
   "source": [
    "# Define the key using HTTP method and URL (without protocol)\n",
    "request_key = \"GET:/user?size=2\"\n",
    "\n",
    "# Define the response content (JSON response as a string)\n",
    "response_content = '[{\"id\": 10, \"name\": \"jean\"}, {\"id\": 11, \"name\": \"Claire\"}]'\n",
    "\n",
    "# Store the request and response content in Redis\n",
    "r.set(request_key, response_content)\n",
    "\n",
    "# Optionally, retrieve the cached response to verify\n",
    "cached_response = r.get(request_key)\n",
    "print(cached_response.decode('utf-8'))  # Decode bytes to string for printing\n"
   ]
  },
  {
   "cell_type": "markdown",
   "metadata": {},
   "source": [
    "**Q** : Create a set of cache request keys."
   ]
  },
  {
   "cell_type": "code",
   "execution_count": 21,
   "metadata": {},
   "outputs": [
    {
     "name": "stdout",
     "output_type": "stream",
     "text": [
      "['PUT:/user/10', 'GET:/user?size=2']\n"
     ]
    }
   ],
   "source": [
    "\n",
    "\n",
    "# Add request keys to the set\n",
    "r.sadd(\"cache_keys_set\", \"GET:/user?size=2\")\n",
    "r.sadd(\"cache_keys_set\", \"PUT:/user/10\")\n",
    "\n",
    "# Optionally, retrieve and display the set of request keys\n",
    "cache_keys = r.smembers(\"cache_keys_set\")\n",
    "print([key.decode('utf-8') for key in cache_keys])  # Decode each byte to string\n"
   ]
  },
  {
   "cell_type": "markdown",
   "metadata": {},
   "source": [
    "**Q** : Check if the GET request on http: //http://my-api.fr/user"
   ]
  },
  {
   "cell_type": "code",
   "execution_count": 22,
   "metadata": {},
   "outputs": [
    {
     "name": "stdout",
     "output_type": "stream",
     "text": [
      "GET request cache exists: 1\n"
     ]
    }
   ],
   "source": [
    "get_request = 'GET:/user?size=2'\n",
    "# Check if the GET request on http://my-api.fr/user exists in the cache\n",
    "exists = r.sismember(\"cache_keys_set\", get_request)\n",
    "print(f\"GET request cache exists: {exists}\")"
   ]
  },
  {
   "cell_type": "markdown",
   "metadata": {},
   "source": [
    "**Q** : Delete the PUT request on http://my-api.fr/user/10 from the cache."
   ]
  },
  {
   "cell_type": "code",
   "execution_count": 23,
   "metadata": {},
   "outputs": [
    {
     "data": {
      "text/plain": [
       "1"
      ]
     },
     "execution_count": 23,
     "metadata": {},
     "output_type": "execute_result"
    }
   ],
   "source": [
    "# Delete the PUT request on http://my-api.fr/user/10 from the cache\n",
    "put_request_key = \"PUT:/user/10\"\n",
    "r.srem(\"cache_keys_set\", put_request_key)"
   ]
  },
  {
   "cell_type": "code",
   "execution_count": 24,
   "metadata": {},
   "outputs": [
    {
     "name": "stdout",
     "output_type": "stream",
     "text": [
      "GET request cache exists: 0\n"
     ]
    }
   ],
   "source": [
    "exists = r.sismember(\"cache_keys_set\", put_request_key)\n",
    "print(f\"GET request cache exists: {exists}\")"
   ]
  },
  {
   "cell_type": "markdown",
   "metadata": {},
   "source": [
    "## Postquisites\n",
    "\n",
    "The folloinwg command removes all data from your Redis cluster."
   ]
  },
  {
   "cell_type": "code",
   "execution_count": 25,
   "metadata": {},
   "outputs": [
    {
     "data": {
      "text/plain": [
       "True"
      ]
     },
     "execution_count": 25,
     "metadata": {},
     "output_type": "execute_result"
    }
   ],
   "source": [
    "r.flushall()"
   ]
  }
 ],
 "metadata": {
  "kernelspec": {
   "display_name": "nosql",
   "language": "python",
   "name": "python3"
  },
  "language_info": {
   "codemirror_mode": {
    "name": "ipython",
    "version": 3
   },
   "file_extension": ".py",
   "mimetype": "text/x-python",
   "name": "python",
   "nbconvert_exporter": "python",
   "pygments_lexer": "ipython3",
   "version": "3.7.16"
  }
 },
 "nbformat": 4,
 "nbformat_minor": 2
}
