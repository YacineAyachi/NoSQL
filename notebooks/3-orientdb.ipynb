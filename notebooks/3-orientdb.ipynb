{
 "cells": [
  {
   "cell_type": "markdown",
   "metadata": {},
   "source": [
    "# OrientDB tutorial"
   ]
  },
  {
   "cell_type": "markdown",
   "metadata": {},
   "source": [
    "## Prerequisites"
   ]
  },
  {
   "cell_type": "markdown",
   "metadata": {},
   "source": [
    "### Documentation\n",
    "\n",
    "You will find all documentation for :\n",
    "* [OrientDB SQL reference](http://www.orientdb.com/docs/last/SQL-Functions.html)\n",
    "* [Orientdb python client](http://orientdb.com/docs/last/PyOrient-Client.html#working-with-the-client)"
   ]
  },
  {
   "cell_type": "markdown",
   "metadata": {},
   "source": [
    "## Import libraries"
   ]
  },
  {
   "cell_type": "code",
   "execution_count": 3,
   "metadata": {},
   "outputs": [],
   "source": [
    "import pyorient"
   ]
  },
  {
   "cell_type": "code",
   "execution_count": 4,
   "metadata": {},
   "outputs": [],
   "source": [
    "ROOT_PASSWORD = \"root\"\n",
    "client = pyorient.OrientDB(\"localhost\", 2424)\n",
    "session_id = client.connect(\"root\", ROOT_PASSWORD)"
   ]
  },
  {
   "cell_type": "code",
   "execution_count": 5,
   "metadata": {},
   "outputs": [
    {
     "name": "stdout",
     "output_type": "stream",
     "text": [
      "{{'databases': {}}}\n"
     ]
    }
   ],
   "source": [
    "print(client.db_list())"
   ]
  },
  {
   "cell_type": "markdown",
   "metadata": {},
   "source": [
    "## I. Quick start"
   ]
  },
  {
   "cell_type": "markdown",
   "metadata": {},
   "source": [
    "### Creating the database"
   ]
  },
  {
   "cell_type": "markdown",
   "metadata": {},
   "source": [
    "**Q:** Create a database `gods` as a `GRAPH_DATABASE` in `MEMORY_STORAGE_TYPE`. \n",
    "\n",
    "We will use it to store relationships between Greek deities."
   ]
  },
  {
   "cell_type": "code",
   "execution_count": 6,
   "metadata": {},
   "outputs": [],
   "source": [
    "# Create the database 'gods' with GRAPH_DATABASE type and MEMORY_STORAGE_TYPE\n",
    "if not client.db_exists(\"gods\", pyorient.STORAGE_TYPE_MEMORY):\n",
    "    client.db_create(\"gods\", \"graph\", \"memory\")"
   ]
  },
  {
   "cell_type": "code",
   "execution_count": 7,
   "metadata": {},
   "outputs": [
    {
     "name": "stdout",
     "output_type": "stream",
     "text": [
      "{{'databases': {'gods': 'memory:gods'}}}\n"
     ]
    }
   ],
   "source": [
    "print(client.db_list())"
   ]
  },
  {
   "cell_type": "markdown",
   "metadata": {},
   "source": [
    "**Q:** Connect your pyorient client to the `gods` database."
   ]
  },
  {
   "cell_type": "code",
   "execution_count": 8,
   "metadata": {},
   "outputs": [
    {
     "data": {
      "text/plain": [
       "[<pyorient.otypes.OrientCluster at 0x7b583fd860d0>,\n",
       " <pyorient.otypes.OrientCluster at 0x7b583fdf9410>,\n",
       " <pyorient.otypes.OrientCluster at 0x7b583fd86090>,\n",
       " <pyorient.otypes.OrientCluster at 0x7b583fd86110>,\n",
       " <pyorient.otypes.OrientCluster at 0x7b583fd86150>,\n",
       " <pyorient.otypes.OrientCluster at 0x7b583fd861d0>,\n",
       " <pyorient.otypes.OrientCluster at 0x7b583fd86210>,\n",
       " <pyorient.otypes.OrientCluster at 0x7b583fd86250>,\n",
       " <pyorient.otypes.OrientCluster at 0x7b583fd86290>,\n",
       " <pyorient.otypes.OrientCluster at 0x7b583fd86190>,\n",
       " <pyorient.otypes.OrientCluster at 0x7b583fd862d0>,\n",
       " <pyorient.otypes.OrientCluster at 0x7b583fd86310>,\n",
       " <pyorient.otypes.OrientCluster at 0x7b583fd86350>]"
      ]
     },
     "execution_count": 8,
     "metadata": {},
     "output_type": "execute_result"
    }
   ],
   "source": [
    "# Connect to the 'gods' database\n",
    "client.db_open(\"gods\", \"root\", ROOT_PASSWORD)"
   ]
  },
  {
   "cell_type": "markdown",
   "metadata": {},
   "source": [
    "**Q:** You should now be able to launch OrientDB queries through the Python client with the [command()](http://orientdb.com/docs/last/PyOrient-Client-Command.html) function. \n",
    "\n",
    "You should think of OrientDB as a Graph-Document database for the following questions. Each vertex and edge will contain information on it inside a JSON document.\n",
    "\n",
    "Create a new Vertex with content `{name: 'Zeus', symbol: 'thunder'}`. The [CREATE VERTEX : Create a vertex using JSON content](http://orientdb.com/docs/last/SQL-Create-Vertex.html) doc page should help you."
   ]
  },
  {
   "cell_type": "code",
   "execution_count": 9,
   "metadata": {},
   "outputs": [
    {
     "name": "stdout",
     "output_type": "stream",
     "text": [
      "Vertex created: [<pyorient.otypes.OrientRecord object at 0x7b586589e350>]\n"
     ]
    }
   ],
   "source": [
    "# Create a new vertex with the content {name: 'Zeus', symbol: 'thunder'}\n",
    "query = \"CREATE VERTEX V SET name = 'Zeus', symbol = 'thunder'\"\n",
    "\n",
    "# Execute the query\n",
    "result = client.command(query)\n",
    "\n",
    "# Print the result\n",
    "print(\"Vertex created:\", result)"
   ]
  },
  {
   "cell_type": "markdown",
   "metadata": {},
   "source": [
    "You have created a VERTEX in the previous question. The VERTEX is a [class](https://orientdb.com/docs/last/Tutorial-Classes.html) of OrientDB which defines a record that can be linked to others through EDGE instances.\n",
    "\n",
    "You can find all VERTEX created in the database with a SQL command on the `V` table, like `SELECT * FROM V`. \n",
    "\n",
    "**Q:** Print all current vertices in `gods`, it should only have `Zeus` though for now."
   ]
  },
  {
   "cell_type": "code",
   "execution_count": 10,
   "metadata": {},
   "outputs": [
    {
     "name": "stdout",
     "output_type": "stream",
     "text": [
      "All current vertices:\n",
      "{'name': 'Zeus', 'symbol': 'thunder'}\n"
     ]
    }
   ],
   "source": [
    "# Query to select all vertices from the 'V' table\n",
    "query = \"SELECT * FROM V\"\n",
    "\n",
    "# Execute the query and store the result\n",
    "result = client.command(query)\n",
    "\n",
    "# Print the result\n",
    "print(\"All current vertices:\")\n",
    "for vertex in result:\n",
    "    print(vertex.oRecordData)"
   ]
  },
  {
   "cell_type": "markdown",
   "metadata": {},
   "source": [
    "**Q:** Create new vertices with content : \n",
    "```\n",
    "{name:Héra, symbol:tiara}\n",
    "{name:Poséidon, symbol:trident}\n",
    "{name:Athena, symbol:helmet}\n",
    "{name:Arès, symbol:weapons} \n",
    "```"
   ]
  },
  {
   "cell_type": "code",
   "execution_count": 11,
   "metadata": {},
   "outputs": [],
   "source": [
    "# Create new vertices with the specified content\n",
    "queries = [\n",
    "    \"CREATE VERTEX V SET name = 'Héra', symbol = 'tiara'\",\n",
    "    \"CREATE VERTEX V SET name = 'Poséidon', symbol = 'trident'\",\n",
    "    \"CREATE VERTEX V SET name = 'Athena', symbol = 'helmet'\",\n",
    "    \"CREATE VERTEX V SET name = 'Arès', symbol = 'weapons'\"\n",
    "]\n",
    "\n",
    "# Execute each query to create the vertices\n",
    "for query in queries:\n",
    "    result = client.command(query)"
   ]
  },
  {
   "cell_type": "code",
   "execution_count": 12,
   "metadata": {},
   "outputs": [
    {
     "name": "stdout",
     "output_type": "stream",
     "text": [
      "{'name': 'Zeus', 'symbol': 'thunder'}\n",
      "{'name': 'Poséidon', 'symbol': 'trident'}\n",
      "{'name': 'Arès', 'symbol': 'weapons'}\n",
      "{'name': 'Héra', 'symbol': 'tiara'}\n",
      "{'name': 'Athena', 'symbol': 'helmet'}\n"
     ]
    }
   ],
   "source": [
    "query = \"SELECT * FROM V\"\n",
    "result = client.command(query)\n",
    "for vertex in result:\n",
    "    print(vertex.oRecordData)"
   ]
  },
  {
   "cell_type": "markdown",
   "metadata": {},
   "source": [
    "**Q:** Display all vertices with name = `Arès`"
   ]
  },
  {
   "cell_type": "code",
   "execution_count": 13,
   "metadata": {},
   "outputs": [
    {
     "name": "stdout",
     "output_type": "stream",
     "text": [
      "{'name': 'Arès', 'symbol': 'weapons'}\n"
     ]
    }
   ],
   "source": [
    "# Query to select all vertices with name = 'Arès'\n",
    "query = \"SELECT * FROM V WHERE name = 'Arès'\"\n",
    "\n",
    "# Execute the query and store the result\n",
    "result = client.command(query)\n",
    "\n",
    "# Print the result\n",
    "for vertex in result:\n",
    "    print(vertex.oRecordData)\n"
   ]
  },
  {
   "cell_type": "markdown",
   "metadata": {},
   "source": [
    "**Q:** Create an EDGE from `Zeus` to `Poséidon` with the content `{kind: 'sibling'}"
   ]
  },
  {
   "cell_type": "code",
   "execution_count": 14,
   "metadata": {},
   "outputs": [
    {
     "data": {
      "text/plain": [
       "[<pyorient.otypes.OrientRecord at 0x7b583fda4c90>]"
      ]
     },
     "execution_count": 14,
     "metadata": {},
     "output_type": "execute_result"
    }
   ],
   "source": [
    "# Query to create an edge from Zeus to Poséidon with kind = 'sibling' using inline SELECT\n",
    "create_edge_query = \"\"\"\n",
    "CREATE EDGE \n",
    "FROM (SELECT FROM V WHERE name = 'Zeus') \n",
    "TO (SELECT FROM V WHERE name = 'Poséidon') \n",
    "SET kind = 'sibling'\n",
    "\"\"\"\n",
    "\n",
    "# Execute the edge creation query\n",
    "client.command(create_edge_query)"
   ]
  },
  {
   "cell_type": "markdown",
   "metadata": {},
   "source": [
    "**Q:** Redisplay all vertices, discuss."
   ]
  },
  {
   "cell_type": "code",
   "execution_count": 15,
   "metadata": {},
   "outputs": [
    {
     "name": "stdout",
     "output_type": "stream",
     "text": [
      "{'name': 'Zeus', 'symbol': 'thunder', 'out_': <pyorient.otypes.OrientBinaryObject object at 0x7b583fdade50>}\n",
      "{'name': 'Poséidon', 'symbol': 'trident', 'in_': <pyorient.otypes.OrientBinaryObject object at 0x7b583fdb1050>}\n",
      "{'name': 'Arès', 'symbol': 'weapons'}\n",
      "{'name': 'Héra', 'symbol': 'tiara'}\n",
      "{'name': 'Athena', 'symbol': 'helmet'}\n"
     ]
    }
   ],
   "source": [
    "# Execute the query to display all vertices in the 'gods' database\n",
    "vertices_query = \"SELECT FROM V\"\n",
    "vertices = client.command(vertices_query)\n",
    "\n",
    "# Print the results (displaying all vertices)\n",
    "for vertex in vertices:\n",
    "    print(vertex.oRecordData) "
   ]
  },
  {
   "cell_type": "markdown",
   "metadata": {},
   "source": [
    "**Q:** Display all edges. They are contained in the class `E`"
   ]
  },
  {
   "cell_type": "code",
   "execution_count": 16,
   "metadata": {},
   "outputs": [
    {
     "name": "stdout",
     "output_type": "stream",
     "text": [
      "{'kind': 'sibling', 'out': <pyorient.otypes.OrientRecordLink object at 0x7b583fdb1c90>, 'in': <pyorient.otypes.OrientRecordLink object at 0x7b583fdb1d50>}\n"
     ]
    }
   ],
   "source": [
    "# Execute the query to display all edges in the 'gods' database (edges are contained in the class 'E')\n",
    "edges_query = \"SELECT FROM E\"\n",
    "edges = client.command(edges_query)\n",
    "\n",
    "# Print the results (displaying all edges)\n",
    "for edge in edges:\n",
    "    print(edge.oRecordData)  "
   ]
  },
  {
   "cell_type": "markdown",
   "metadata": {},
   "source": [
    "Two fields on vertices have appeared, containing the outgoing (out_) and incoming (in_) links.\n",
    "\n",
    "At the edge level, two fields point to the original (out) and destination (in) vertices.\n",
    "\n",
    "**Q:** Lets create some more edges :\n",
    "\n",
    "* Zeus > Héra (sibling)\n",
    "* Zeus > Arès (father)\n",
    "* Zeus > Athena (father)\n",
    "* Héra > Arès (mother)\n",
    "* Héra > Zeus (sibling)\n",
    "* Poséidon > Zeus (sibling)\n",
    "\n",
    "_Hint 1 :_ check [the CREATE EDGE doc page](http://orientdb.com/docs/last/SQL-Create-Edge.html) to find an example for creating edges on vertices using subqueries so you can run queries to fetch the vertices before creating an edge in between.\n",
    "\n",
    "_Hint 2 :_ after you have found the command to create edges between vertices with sub-queries, you should be well-versed enough in Python to create a list of all edges in the question, and loop the command on each element of the list to create all edges in one go =)"
   ]
  },
  {
   "cell_type": "code",
   "execution_count": 17,
   "metadata": {},
   "outputs": [],
   "source": [
    "# Création de plusieurs arêtes (edges) entre les divinités grecques\n",
    "edges_to_create = [\n",
    "    (\"Zeus\", \"Héra\", \"sibling\"),\n",
    "    (\"Zeus\", \"Arès\", \"father\"),\n",
    "    (\"Zeus\", \"Athena\", \"father\"),\n",
    "    (\"Héra\", \"Arès\", \"mother\"),\n",
    "    (\"Héra\", \"Zeus\", \"sibling\"),\n",
    "    (\"Poséidon\", \"Zeus\", \"sibling\"),\n",
    "]\n",
    "\n",
    "for from_name, to_name, kind in edges_to_create:\n",
    "    client.command(f\"\"\"\n",
    "        CREATE EDGE \n",
    "        FROM (SELECT FROM V WHERE name = '{from_name}') \n",
    "        TO (SELECT FROM V WHERE name = '{to_name}') \n",
    "        SET kind = '{kind}'\n",
    "    \"\"\")"
   ]
  },
  {
   "cell_type": "markdown",
   "metadata": {},
   "source": [
    "### Looking for data"
   ]
  },
  {
   "cell_type": "markdown",
   "metadata": {},
   "source": [
    "**Q:** Using [out()](http://orientdb.com/docs/last/Tutorial-Working-with-graphs.html#querying-graphs) function, display all vertices connected and outgoing from Zeus.\n",
    "\n",
    "You should use the EXPAND() special function to transform the vertex collection in the result-set by expanding it, making the results more readable."
   ]
  },
  {
   "cell_type": "code",
   "execution_count": 18,
   "metadata": {},
   "outputs": [
    {
     "name": "stdout",
     "output_type": "stream",
     "text": [
      "{'name': 'Poséidon', 'symbol': 'trident', 'in_': <pyorient.otypes.OrientBinaryObject object at 0x7b583fdb71d0>, 'out_': <pyorient.otypes.OrientBinaryObject object at 0x7b583fdb7ad0>}\n",
      "{'out_': <pyorient.otypes.OrientBinaryObject object at 0x7b583fdb7bd0>, 'name': 'Héra', 'symbol': 'tiara', 'in_': <pyorient.otypes.OrientBinaryObject object at 0x7b583fdb7d10>}\n",
      "{'in_': <pyorient.otypes.OrientBinaryObject object at 0x7b583fdb7e10>, 'name': 'Arès', 'symbol': 'weapons'}\n",
      "{'name': 'Athena', 'symbol': 'helmet', 'in_': <pyorient.otypes.OrientBinaryObject object at 0x7b583fdbb110>}\n"
     ]
    }
   ],
   "source": [
    "# Define the query to fetch all outgoing vertices from Zeus\n",
    "outgoing_query = \"SELECT expand(out()) FROM V WHERE name = 'Zeus'\"\n",
    "\n",
    "# Execute the query\n",
    "outgoing_vertices = client.command(outgoing_query)\n",
    "\n",
    "# Display the results (expanded vertices connected and outgoing from Zeus)\n",
    "for v in outgoing_vertices:\n",
    "    print(v.oRecordData)  \n"
   ]
  },
  {
   "cell_type": "markdown",
   "metadata": {},
   "source": [
    "**Q:** Display all vertices which got a father (the vertices which are the destination of an arc whose kind attribute is father).\n",
    "\n",
    "_Hint: You can notice that we use the field `in` the arc, and not the function `in()` which applies to vertices._"
   ]
  },
  {
   "cell_type": "code",
   "execution_count": 19,
   "metadata": {},
   "outputs": [
    {
     "name": "stdout",
     "output_type": "stream",
     "text": [
      "{'in_': <pyorient.otypes.OrientBinaryObject object at 0x7b583fdb7610>, 'name': 'Arès', 'symbol': 'weapons'}\n",
      "{'name': 'Athena', 'symbol': 'helmet', 'in_': <pyorient.otypes.OrientBinaryObject object at 0x7b583fdbb9d0>}\n"
     ]
    }
   ],
   "source": [
    "# Define the query to fetch all vertices that have a father\n",
    "father_vertices_query = \"SELECT expand(in) from E where kind='father'\"\n",
    "# Execute the query\n",
    "father_vertices = client.command(father_vertices_query)\n",
    "\n",
    "# Display the results (vertices with a father)\n",
    "for vertex in father_vertices:\n",
    "    print(vertex.oRecordData) \n"
   ]
  },
  {
   "cell_type": "markdown",
   "metadata": {},
   "source": [
    "**Q:** As in SQL, the operator `in` used in a clause `where` allows to restrict the possible values with an embedded query _(where ... in (select ...))_. \n",
    "\n",
    "Display the mothers, by displaying the vertices where an outgoing arc is part of the arcs where kind is a mother."
   ]
  },
  {
   "cell_type": "code",
   "execution_count": 20,
   "metadata": {},
   "outputs": [
    {
     "name": "stdout",
     "output_type": "stream",
     "text": [
      "{'out_': <pyorient.otypes.OrientBinaryObject object at 0x7b583fdbbf50>, 'name': 'Héra', 'symbol': 'tiara', 'in_': <pyorient.otypes.OrientBinaryObject object at 0x7b583fdbc090>}\n"
     ]
    }
   ],
   "source": [
    "# Define the query to fetch all vertices that are mothers\n",
    "mother_vertices_query = \"SELECT FROM V WHERE @rid IN (SELECT out FROM E WHERE kind = 'mother')\"\n",
    "\n",
    "# Execute the query\n",
    "mother_vertices = client.command(mother_vertices_query)\n",
    "\n",
    "# Display the results (vertices that are mothers)\n",
    "for vertex in mother_vertices:\n",
    "    print(vertex.oRecordData) \n"
   ]
  },
  {
   "cell_type": "markdown",
   "metadata": {},
   "source": [
    "**Q:** Display the brothers and sisters of Zeus (the destination summits of an arc whose kind is sibling and whose original summit is Zeus)."
   ]
  },
  {
   "cell_type": "code",
   "execution_count": 21,
   "metadata": {},
   "outputs": [
    {
     "name": "stdout",
     "output_type": "stream",
     "text": [
      "{'name': 'Poséidon', 'symbol': 'trident', 'in_': <pyorient.otypes.OrientBinaryObject object at 0x7b583fdbc710>, 'out_': <pyorient.otypes.OrientBinaryObject object at 0x7b583fdbc790>}\n",
      "{'name': 'Héra', 'out_': <pyorient.otypes.OrientBinaryObject object at 0x7b583fdbc8d0>, 'symbol': 'tiara', 'in_': <pyorient.otypes.OrientBinaryObject object at 0x7b583fdbc9d0>}\n"
     ]
    }
   ],
   "source": [
    "# Define the query to fetch the brothers and sisters of Zeus\n",
    "siblings_query = \"SELECT expand(in) FROM E WHERE kind = 'sibling' and out.name = 'Zeus'\"\n",
    "\n",
    "# Execute the query\n",
    "siblings = client.command(siblings_query)\n",
    "\n",
    "# Display the results (brothers and sisters of Zeus)\n",
    "for sibling in siblings:\n",
    "    print(sibling.oRecordData) \n"
   ]
  },
  {
   "cell_type": "markdown",
   "metadata": {},
   "source": [
    "## Modeling a Product Recommendation System"
   ]
  },
  {
   "cell_type": "markdown",
   "metadata": {},
   "source": [
    "You are currently modeling the data of a product recommendation system with OrientDB.\n",
    "\n",
    "The main purpose of such a system is to answer the question \"which products were purchased by their people who purchased product X? »\n",
    "\n",
    "Purchased products have only one name field. They are purchased by people who have a nickname.\n",
    "\n",
    "When a person buys a product, the date of purchase is stored. \n",
    "\n",
    "Instead of working with \"anonymous\" vertices and arcs, you will use classes. The `create class` command allows you to create custom classes.\n",
    "\n",
    "The vertex classes must extend V, the arc classes must extend E."
   ]
  },
  {
   "cell_type": "markdown",
   "metadata": {},
   "source": [
    "**Q:** Create an `eCommerce` database, and the necessary classes to model the system.\n",
    "\n",
    "PS : you can view all classes in the database with :\n",
    "\n",
    "```python\n",
    "for name in client.command(\"SELECT name FROM (SELECT expand(classes) FROM metadata:schema)\"):\n",
    "    print(name)\n",
    "```"
   ]
  },
  {
   "cell_type": "code",
   "execution_count": 22,
   "metadata": {},
   "outputs": [
    {
     "name": "stdout",
     "output_type": "stream",
     "text": [
      "{'name': 'OSchedule'}\n",
      "{'name': 'Person'}\n",
      "{'name': 'OFunction'}\n",
      "{'name': 'ORestricted'}\n",
      "{'name': 'Purchase'}\n",
      "{'name': 'OIdentity'}\n",
      "{'name': 'OUser'}\n",
      "{'name': 'OTriggered'}\n",
      "{'name': 'V'}\n",
      "{'name': 'Product'}\n",
      "{'name': 'OSequence'}\n",
      "{'name': 'E'}\n",
      "{'name': 'ORole'}\n"
     ]
    }
   ],
   "source": [
    "from datetime import datetime   \n",
    "# Step 1: Create the eCommerce Database\n",
    "if not client.db_exists(\"eCommerce\", pyorient.STORAGE_TYPE_MEMORY):\n",
    "    client.db_create(\"eCommerce\", \"graph\", \"memory\")\n",
    "\n",
    "# Step 2: Create the necessary classes\n",
    "client.command(\"CREATE CLASS Product EXTENDS V\")  # Product class\n",
    "client.command(\"CREATE PROPERTY Product.name STRING\")  # name field for Product\n",
    "\n",
    "client.command(\"CREATE CLASS Person EXTENDS V\")  # Person class\n",
    "client.command(\"CREATE PROPERTY Person.nickname STRING\")  # nickname field for Person\n",
    "\n",
    "client.command(\"CREATE CLASS Purchase EXTENDS E\")  # Purchase edge class\n",
    "client.command(\"CREATE PROPERTY Purchase.purchase_date DATETIME\")  # purchase_date field for Purchase\n",
    "\n",
    "# Step 3: Verify the classes\n",
    "# Fetch all classes from the database\n",
    "classes = client.command(\"SELECT name FROM (SELECT expand(classes) FROM metadata:schema)\")\n",
    "\n",
    "# Display the classes\n",
    "for class_name in classes:\n",
    "    print(class_name.oRecordData)\n"
   ]
  },
  {
   "cell_type": "markdown",
   "metadata": {},
   "source": [
    "**Q:** Create the following products: `spaghetti`, `bolognese sauce`, `cheese`, `apple`."
   ]
  },
  {
   "cell_type": "code",
   "execution_count": 23,
   "metadata": {},
   "outputs": [
    {
     "name": "stdout",
     "output_type": "stream",
     "text": [
      "{'name': 'spaghetti'}\n",
      "{'name': 'cheese'}\n",
      "{'name': 'bolognese sauce'}\n",
      "{'name': 'apple'}\n"
     ]
    }
   ],
   "source": [
    "# Create products with specified names\n",
    "product_names = ['spaghetti', 'bolognese sauce', 'cheese', 'apple']\n",
    "\n",
    "# Loop through the product names and create a product vertex for each\n",
    "for name in product_names:\n",
    "    query = f\"CREATE VERTEX Product SET name = '{name}'\"\n",
    "    client.command(query)\n",
    "\n",
    "# Verify by printing the created products\n",
    "products = client.command(\"SELECT FROM Product\")\n",
    "for product in products:\n",
    "    print(product.oRecordData)  \n"
   ]
  },
  {
   "cell_type": "markdown",
   "metadata": {},
   "source": [
    "**Q:** Create the following people: `peter`, `meredith`."
   ]
  },
  {
   "cell_type": "code",
   "execution_count": 24,
   "metadata": {},
   "outputs": [],
   "source": [
    "people = ['peter', 'meredith']\n",
    "for nickname in people:\n",
    "    client.command(f\"CREATE VERTEX Person SET nickname = '{nickname}'\")"
   ]
  },
  {
   "cell_type": "markdown",
   "metadata": {},
   "source": [
    "**Q:** Create the following purchases: \n",
    "- peter > spaghetti + cheese on 20/01/2016 \n",
    "- meredith > cheese + apple + bolognese sauce on 22/01/2016\n",
    "- peter > spaghetti + bolognese sauce on 27/01/2016\n"
   ]
  },
  {
   "cell_type": "code",
   "execution_count": 25,
   "metadata": {},
   "outputs": [],
   "source": [
    "purchases = [\n",
    "    (\"peter\", [\"spaghetti\", \"cheese\"], \"2016-01-20\"),\n",
    "    (\"meredith\", [\"cheese\", \"apple\", \"bolognese sauce\"], \"2016-01-22\"),\n",
    "    (\"peter\", [\"spaghetti\", \"bolognese sauce\"], \"2016-01-27\"),\n",
    "]\n",
    "for person, products, date in purchases:\n",
    "    for product in products:\n",
    "        client.command(f\"\"\"\n",
    "            CREATE EDGE Purchase \n",
    "            FROM (SELECT FROM Person WHERE nickname = '{person}') \n",
    "            TO (SELECT FROM Product WHERE name = '{product}') \n",
    "            SET date = '{date}'\n",
    "        \"\"\")\n"
   ]
  },
  {
   "cell_type": "code",
   "execution_count": 26,
   "metadata": {},
   "outputs": [
    {
     "name": "stdout",
     "output_type": "stream",
     "text": [
      "{'buyer': 'peter', 'product': 'spaghetti', 'date': '2016-01-20'}\n",
      "{'buyer': 'meredith', 'product': 'cheese', 'date': '2016-01-22'}\n",
      "{'buyer': 'meredith', 'product': 'bolognese sauce', 'date': '2016-01-22'}\n",
      "{'buyer': 'peter', 'product': 'bolognese sauce', 'date': '2016-01-27'}\n",
      "{'buyer': 'peter', 'product': 'cheese', 'date': '2016-01-20'}\n",
      "{'buyer': 'meredith', 'product': 'apple', 'date': '2016-01-22'}\n",
      "{'buyer': 'peter', 'product': 'spaghetti', 'date': '2016-01-27'}\n"
     ]
    }
   ],
   "source": [
    "query = \"\"\"\n",
    "SELECT \n",
    "    out.nickname as buyer, \n",
    "    in.name as product, \n",
    "    date \n",
    "FROM Purchase\n",
    "\"\"\"\n",
    "\n",
    "results = client.command(query)\n",
    "for r in results:\n",
    "    print(r.oRecordData)"
   ]
  },
  {
   "cell_type": "markdown",
   "metadata": {},
   "source": [
    "**Q:** Who bought Bolognese sauce?"
   ]
  },
  {
   "cell_type": "code",
   "execution_count": 27,
   "metadata": {},
   "outputs": [
    {
     "name": "stdout",
     "output_type": "stream",
     "text": [
      "{'out_Purchase': <pyorient.otypes.OrientBinaryObject object at 0x7b583fdbccd0>, 'nickname': 'peter'}\n",
      "{'out_Purchase': <pyorient.otypes.OrientBinaryObject object at 0x7b583fdbcf90>, 'nickname': 'meredith'}\n"
     ]
    }
   ],
   "source": [
    "buyers = client.command(\"\"\"\n",
    "    SELECT FROM Person \n",
    "    WHERE @rid IN (\n",
    "        SELECT out FROM Purchase \n",
    "        WHERE in IN (\n",
    "            SELECT FROM Product WHERE name = 'bolognese sauce'\n",
    "        )\n",
    "    )\n",
    "\"\"\")\n",
    "\n",
    "for buyer in buyers:\n",
    "    print(buyer.oRecordData)"
   ]
  },
  {
   "cell_type": "markdown",
   "metadata": {},
   "source": [
    "**Q:** It is possible to link the `out` and `in` navigation functions. What products are purchased with Bolognese sauce? "
   ]
  },
  {
   "cell_type": "code",
   "execution_count": 28,
   "metadata": {},
   "outputs": [
    {
     "name": "stdout",
     "output_type": "stream",
     "text": [
      "spaghetti\n",
      "apple\n",
      "cheese\n"
     ]
    }
   ],
   "source": [
    "results = client.command(\"\"\"\n",
    "    SELECT expand(out('Purchase')) \n",
    "    FROM Person \n",
    "    WHERE @rid IN (\n",
    "        SELECT out FROM Purchase \n",
    "        WHERE in IN (\n",
    "            SELECT FROM Product WHERE name = 'bolognese sauce'\n",
    "        )\n",
    "    )\n",
    "\"\"\")\n",
    "\n",
    "# Utilise un set pour éviter les doublons\n",
    "unique_products = set()\n",
    "\n",
    "for product in results:\n",
    "    name = product.oRecordData.get('name')\n",
    "    if name and name != 'bolognese sauce':\n",
    "        unique_products.add(name)\n",
    "\n",
    "# Affiche les noms sans doublon\n",
    "for name in unique_products:\n",
    "    print(name)"
   ]
  },
  {
   "cell_type": "markdown",
   "metadata": {},
   "source": [
    "## Postquisites"
   ]
  },
  {
   "cell_type": "markdown",
   "metadata": {},
   "source": [
    "Since we create databases in memory, they get destroyed on server shutdown."
   ]
  }
 ],
 "metadata": {
  "kernelspec": {
   "display_name": "nosql",
   "language": "python",
   "name": "python3"
  },
  "language_info": {
   "codemirror_mode": {
    "name": "ipython",
    "version": 3
   },
   "file_extension": ".py",
   "mimetype": "text/x-python",
   "name": "python",
   "nbconvert_exporter": "python",
   "pygments_lexer": "ipython3",
   "version": "3.7.16"
  }
 },
 "nbformat": 4,
 "nbformat_minor": 2
}
